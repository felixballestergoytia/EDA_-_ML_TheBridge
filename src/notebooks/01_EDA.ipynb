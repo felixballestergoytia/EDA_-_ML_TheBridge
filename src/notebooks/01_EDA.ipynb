{
 "cells": [
  {
   "attachments": {},
   "cell_type": "markdown",
   "id": "100b268e",
   "metadata": {
    "papermill": {
     "duration": 0.00362,
     "end_time": "2023-02-01T13:56:42.090879",
     "exception": false,
     "start_time": "2023-02-01T13:56:42.087259",
     "status": "completed"
    },
    "tags": []
   },
   "source": [
    "# Importamos librerías y definimos funciones auxiliares"
   ]
  },
  {
   "cell_type": "code",
   "execution_count": 53,
   "id": "eec8a521",
   "metadata": {},
   "outputs": [],
   "source": [
    "import pandas as pd\n",
    "import numpy as np\n",
    "import seaborn as sns\n",
    "import matplotlib.pyplot as plt\n",
    "from scipy import stats\n",
    "from scipy.stats import pearsonr\n",
    "\n",
    "'''\n",
    "Function to check if the data normally distributed - normality_test\n",
    "'''\n",
    "def normality_test(df):\n",
    "    '''\n",
    "    La función normality_test es una prueba para verificar si los datos de \n",
    "    un marco de datos (dataframe) siguen una distribución normal. La prueba \n",
    "    utilizada es la prueba de normalidad de D'Agostino-Pearson, que se realiza \n",
    "    con la función normaltest del módulo scipy.stats. Si el valor p (p-value) \n",
    "    es menor que 0.05, se rechaza la hipótesis nula de que los datos están \n",
    "    distribuidos normalmente. Si el valor p es mayor que 0.05, no podemos \n",
    "    rechazar la hipótesis nula y asumimos que los datos se distribuyen normalmente.\n",
    "    '''\n",
    "    # Realizamos la prueba de normalidad de D'Agostino-Pearson sobre los datos del dataframe\n",
    "    stat, p = stats.normaltest(df)\n",
    "\n",
    "    # Imprimimos los valores de la estadística de la prueba y el valor p\n",
    "    print('Statistics=%.3f, p=%.3f' % (stat, p))\n",
    "\n",
    "    # Definimos el nivel de significancia alpha en 0.05\n",
    "    alpha = 0.05\n",
    "\n",
    "    # Comparamos el valor p con el nivel de significancia alpha\n",
    "    if p > alpha:\n",
    "        \n",
    "        # Si el valor p es mayor que alpha, no podemos rechazar la hipótesis nula\n",
    "        print(\"P-Values es mayor que 0.05\")\n",
    "        print('Fallamos en rechazar la hipótesis nula. Los datos se distribuyen con normalidad')\n",
    "\n",
    "    else: \n",
    "        \n",
    "        # Si el valor p es menor o igual que alpha, rechazamos la hipótesis nula\n",
    "        print(\"P-Values es menor que 0.05\")\n",
    "        print('No podemos aceptar la hipótesis nula y fallamos en rechazar la hipótesis alternativa. Los datos no se distribuyen con normalidad')\n",
    "\n",
    "'''\n",
    "Function to check if the data normally distributed - Shapiro-Wilk  normality test\n",
    "'''\n",
    "def shapiro_test(df):\n",
    "    '''\n",
    "    La función shapiro_test es una prueba de normalidad que utiliza la prueba de \n",
    "    Shapiro-Wilk y toma un dataframe como argumento. Imprime los valores de la\n",
    "     estadística de la prueba y el valor p, y luego determina si los datos se \n",
    "     distribuyen con normalidad o no en función del valor de p.\n",
    "    '''\n",
    "    # Realizamos la prueba de normalidad de Shapiro-Wilk sobre los datos del dataframe\n",
    "    stat, p = stats.shapiro(df)\n",
    "\n",
    "    # Imprimimos los valores de la estadística de la prueba y el valor p\n",
    "    print('Statistics=%.3f, p=%.3f' % (stat, p))\n",
    "\n",
    "    # Definimos el nivel de significancia alpha en 0.05\n",
    "    alpha = 0.05\n",
    "\n",
    "    # Comparamos el valor p con el nivel de significancia alpha\n",
    "    if p > alpha:\n",
    "\n",
    "        # Si el valor p es mayor que alpha, no podemos rechazar la hipótesis nula\n",
    "        print(\"P-Values es mayor que 0.05\")\n",
    "        print('Fallamos en rechazar la hipótesis nula. Los datos se distribuyen con normalidad')\n",
    "\n",
    "    else: \n",
    "\n",
    "        # Si el valor p es menor o igual que alpha, rechazamos la hipótesis nula\n",
    "        print(\"P-Values es menor que 0.05\")\n",
    "        print('No podemos aceptar la hipótesis nula y fallamos en rechazar la hipótesis alternativa. Los datos no se distribuyen con normalidad')\n",
    "\n",
    "'''\n",
    "Function to check if the data normally distributed - Anderson-Darling normality test\n",
    "'''\n",
    "def anderson_test(df):\n",
    "    \n",
    "    '''\n",
    "    La función anderson_test es una prueba de normalidad en Python que utiliza la \n",
    "    prueba de Anderson-Darling. Toma un dataframe como argumento y realiza la prueba \n",
    "    sobre los datos del dataframe. Luego, compara la estadística de la prueba con \n",
    "    los valores críticos para diferentes niveles de significancia y determina si los \n",
    "    datos se distribuyen normalmente o no. Imprime el resultado de la prueba en la consola.\n",
    "    '''\n",
    "\n",
    "    # Realizamos la prueba de normalidad de Anderson-Darling sobre los datos del dataframe\n",
    "    result = stats.anderson(df)\n",
    "\n",
    "    # Imprimimos la estadística de la prueba\n",
    "    print('Statistic: %.3f' % result.statistic)\n",
    "\n",
    "    # Realizamos un bucle for para comparar la estadística de la prueba con los valores críticos de la prueba para diferentes niveles de significancia\n",
    "    for i in range(len(result.critical_values)):\n",
    "\n",
    "        # Obtenemos el nivel de significancia y el valor crítico de la prueba para el nivel de significancia actual del bucle for\n",
    "        sl, cv = result.significance_level[i], result.critical_values[i]\n",
    "\n",
    "        # Si la estadística de la prueba es menor que el valor crítico, no podemos rechazar la hipótesis nula\n",
    "        if result.statistic < result.critical_values[i]: \n",
    "            print('%.3f: %.3f, los datos se distribuyen normalmente. Fallamos en rechazar la hipótesis nula.' % (sl, cv))\n",
    "\n",
    "        # Si la estadística de la prueba es mayor que el valor crítico, rechazamos la hipótesis nula\n",
    "        else:\n",
    "            print('%.3f: %.3f, los datos no se distribuyen con normalidad. No podemos aceptar la hipótesis nula y fallamos en rechazar la hipótesis alternativa ' % (sl, cv))\n",
    "\n",
    "'''\n",
    "Function to check if the data correlation - Spearman's dependency test\n",
    "'''\n",
    "def spearman(data1, data2):\n",
    "    '''\n",
    "    La función spearman calcula el coeficiente de correlación de Spearman \n",
    "    y su valor p, que evalúa la relación entre dos variables no necesariamente \n",
    "    normales. Si el valor p es mayor que el nivel de significancia alfa \n",
    "    (generalmente 0.05), se falla en rechazar la hipótesis nula de que las \n",
    "    variables son independientes y se considera que los datos se distribuyen \n",
    "    normalmente. En caso contrario, se falla en rechazar la hipótesis \n",
    "    alternativa de que las variables están correlacionadas y no se distribuyen \n",
    "    normalmente. La función imprime el coeficiente de correlación y el \n",
    "    resultado de la prueba en la consola.\n",
    "    '''\n",
    "    # Se utiliza la función spearmanr de scipy para calcular el coeficiente de correlación de Spearman y su valor p\n",
    "    stat, p = stats.spearmanr(data1, data2)\n",
    "\n",
    "    # Se imprime el coeficiente de correlación en la consola\n",
    "    print('Spearmans correlation coefficient: %.3f' % stat)\n",
    "\n",
    "    # Se define el nivel de significancia alfa (generalmente 0.05)\n",
    "    alpha = 0.05\n",
    "\n",
    "    # Se compara el valor p con alfa para determinar si los datos se distribuyen normalmente o no\n",
    "    if p > alpha:\n",
    "        print(\"El valor P es igual a %.3f. Las dos muestras son independientes. No rechazamos la hipótesis nula\" % p)\n",
    "    else: \n",
    "        print('El valor P es igual a %.3f. Existe una dependencia entre las muestras. Rechazamos la hipótesis nula y No rechazamos la hipótesis alternativa'% p)\n",
    "\n",
    "\n",
    "def pearson_test(data1, data2):\n",
    "    '''\n",
    "        H0: las muestras son independientes.\n",
    "        H1: hay dependencia entre las muestras.\n",
    "    '''\n",
    "    stat, p = pearsonr(data1, data2)\n",
    "    print('stat=%.3f, p=%.3f' % (stat, p))\n",
    "    if p > 0.05:\n",
    "        print('Las muestras probablemente son independientes')\n",
    "    else:\n",
    "        print('Las muestras probablemente dependen una de la otra')"
   ]
  },
  {
   "attachments": {},
   "cell_type": "markdown",
   "id": "b53e0f53",
   "metadata": {},
   "source": [
    "# Cargamos CSV"
   ]
  },
  {
   "cell_type": "code",
   "execution_count": 2,
   "id": "b18167e1",
   "metadata": {},
   "outputs": [],
   "source": [
    "df = pd.read_csv('../data/diamonds.csv')"
   ]
  },
  {
   "attachments": {},
   "cell_type": "markdown",
   "id": "7d74bba4",
   "metadata": {
    "papermill": {
     "duration": 0.00218,
     "end_time": "2023-02-01T13:56:42.258854",
     "exception": false,
     "start_time": "2023-02-01T13:56:42.256674",
     "status": "completed"
    },
    "tags": []
   },
   "source": [
    "# Información básica del Dataset"
   ]
  },
  {
   "cell_type": "code",
   "execution_count": 3,
   "id": "eb93fb35",
   "metadata": {
    "execution": {
     "iopub.execute_input": "2023-02-01T13:56:42.266136Z",
     "iopub.status.busy": "2023-02-01T13:56:42.265301Z",
     "iopub.status.idle": "2023-02-01T13:56:42.305558Z",
     "shell.execute_reply": "2023-02-01T13:56:42.304295Z"
    },
    "papermill": {
     "duration": 0.047769,
     "end_time": "2023-02-01T13:56:42.308942",
     "exception": false,
     "start_time": "2023-02-01T13:56:42.261173",
     "status": "completed"
    },
    "tags": []
   },
   "outputs": [
    {
     "data": {
      "text/html": [
       "<div>\n",
       "<style scoped>\n",
       "    .dataframe tbody tr th:only-of-type {\n",
       "        vertical-align: middle;\n",
       "    }\n",
       "\n",
       "    .dataframe tbody tr th {\n",
       "        vertical-align: top;\n",
       "    }\n",
       "\n",
       "    .dataframe thead th {\n",
       "        text-align: right;\n",
       "    }\n",
       "</style>\n",
       "<table border=\"1\" class=\"dataframe\">\n",
       "  <thead>\n",
       "    <tr style=\"text-align: right;\">\n",
       "      <th></th>\n",
       "      <th>carat</th>\n",
       "      <th>cut</th>\n",
       "      <th>color</th>\n",
       "      <th>clarity</th>\n",
       "      <th>depth</th>\n",
       "      <th>table</th>\n",
       "      <th>price</th>\n",
       "      <th>'x'</th>\n",
       "      <th>'y'</th>\n",
       "      <th>'z'</th>\n",
       "    </tr>\n",
       "  </thead>\n",
       "  <tbody>\n",
       "    <tr>\n",
       "      <th>0</th>\n",
       "      <td>0.23</td>\n",
       "      <td>b'Ideal'</td>\n",
       "      <td>b'E'</td>\n",
       "      <td>b'SI2'</td>\n",
       "      <td>61.5</td>\n",
       "      <td>55.0</td>\n",
       "      <td>326.0</td>\n",
       "      <td>3.95</td>\n",
       "      <td>3.98</td>\n",
       "      <td>2.43</td>\n",
       "    </tr>\n",
       "    <tr>\n",
       "      <th>1</th>\n",
       "      <td>0.21</td>\n",
       "      <td>b'Premium'</td>\n",
       "      <td>b'E'</td>\n",
       "      <td>b'SI1'</td>\n",
       "      <td>59.8</td>\n",
       "      <td>61.0</td>\n",
       "      <td>326.0</td>\n",
       "      <td>3.89</td>\n",
       "      <td>3.84</td>\n",
       "      <td>2.31</td>\n",
       "    </tr>\n",
       "    <tr>\n",
       "      <th>2</th>\n",
       "      <td>0.23</td>\n",
       "      <td>b'Good'</td>\n",
       "      <td>b'E'</td>\n",
       "      <td>b'VS1'</td>\n",
       "      <td>56.9</td>\n",
       "      <td>65.0</td>\n",
       "      <td>327.0</td>\n",
       "      <td>4.05</td>\n",
       "      <td>4.07</td>\n",
       "      <td>2.31</td>\n",
       "    </tr>\n",
       "    <tr>\n",
       "      <th>3</th>\n",
       "      <td>0.29</td>\n",
       "      <td>b'Premium'</td>\n",
       "      <td>b'I'</td>\n",
       "      <td>b'VS2'</td>\n",
       "      <td>62.4</td>\n",
       "      <td>58.0</td>\n",
       "      <td>334.0</td>\n",
       "      <td>4.20</td>\n",
       "      <td>4.23</td>\n",
       "      <td>2.63</td>\n",
       "    </tr>\n",
       "    <tr>\n",
       "      <th>4</th>\n",
       "      <td>0.31</td>\n",
       "      <td>b'Good'</td>\n",
       "      <td>b'J'</td>\n",
       "      <td>b'SI2'</td>\n",
       "      <td>63.3</td>\n",
       "      <td>58.0</td>\n",
       "      <td>335.0</td>\n",
       "      <td>4.34</td>\n",
       "      <td>4.35</td>\n",
       "      <td>2.75</td>\n",
       "    </tr>\n",
       "  </tbody>\n",
       "</table>\n",
       "</div>"
      ],
      "text/plain": [
       "   carat         cut color clarity  depth  table  price   'x'   'y'   'z'\n",
       "0   0.23    b'Ideal'  b'E'  b'SI2'   61.5   55.0  326.0  3.95  3.98  2.43\n",
       "1   0.21  b'Premium'  b'E'  b'SI1'   59.8   61.0  326.0  3.89  3.84  2.31\n",
       "2   0.23     b'Good'  b'E'  b'VS1'   56.9   65.0  327.0  4.05  4.07  2.31\n",
       "3   0.29  b'Premium'  b'I'  b'VS2'   62.4   58.0  334.0  4.20  4.23  2.63\n",
       "4   0.31     b'Good'  b'J'  b'SI2'   63.3   58.0  335.0  4.34  4.35  2.75"
      ]
     },
     "execution_count": 3,
     "metadata": {},
     "output_type": "execute_result"
    }
   ],
   "source": [
    "df.head()"
   ]
  },
  {
   "cell_type": "code",
   "execution_count": 4,
   "id": "45ec3de2",
   "metadata": {
    "execution": {
     "iopub.execute_input": "2023-02-01T13:56:42.317458Z",
     "iopub.status.busy": "2023-02-01T13:56:42.316084Z",
     "iopub.status.idle": "2023-02-01T13:56:42.355469Z",
     "shell.execute_reply": "2023-02-01T13:56:42.354170Z"
    },
    "papermill": {
     "duration": 0.046154,
     "end_time": "2023-02-01T13:56:42.358105",
     "exception": false,
     "start_time": "2023-02-01T13:56:42.311951",
     "status": "completed"
    },
    "tags": []
   },
   "outputs": [
    {
     "name": "stdout",
     "output_type": "stream",
     "text": [
      "<class 'pandas.core.frame.DataFrame'>\n",
      "RangeIndex: 53940 entries, 0 to 53939\n",
      "Data columns (total 10 columns):\n",
      " #   Column   Non-Null Count  Dtype  \n",
      "---  ------   --------------  -----  \n",
      " 0   carat    53940 non-null  float64\n",
      " 1   cut      53940 non-null  object \n",
      " 2   color    53940 non-null  object \n",
      " 3   clarity  53940 non-null  object \n",
      " 4   depth    53940 non-null  float64\n",
      " 5   table    53940 non-null  float64\n",
      " 6   price    53940 non-null  float64\n",
      " 7   'x'      53940 non-null  float64\n",
      " 8   'y'      53940 non-null  float64\n",
      " 9   'z'      53940 non-null  float64\n",
      "dtypes: float64(7), object(3)\n",
      "memory usage: 4.1+ MB\n"
     ]
    }
   ],
   "source": [
    "df.info()"
   ]
  },
  {
   "cell_type": "code",
   "execution_count": 5,
   "id": "835b598e",
   "metadata": {
    "execution": {
     "iopub.execute_input": "2023-02-01T13:56:42.366294Z",
     "iopub.status.busy": "2023-02-01T13:56:42.365626Z",
     "iopub.status.idle": "2023-02-01T13:56:42.423834Z",
     "shell.execute_reply": "2023-02-01T13:56:42.422499Z"
    },
    "papermill": {
     "duration": 0.065472,
     "end_time": "2023-02-01T13:56:42.426625",
     "exception": false,
     "start_time": "2023-02-01T13:56:42.361153",
     "status": "completed"
    },
    "tags": []
   },
   "outputs": [
    {
     "data": {
      "text/html": [
       "<div>\n",
       "<style scoped>\n",
       "    .dataframe tbody tr th:only-of-type {\n",
       "        vertical-align: middle;\n",
       "    }\n",
       "\n",
       "    .dataframe tbody tr th {\n",
       "        vertical-align: top;\n",
       "    }\n",
       "\n",
       "    .dataframe thead th {\n",
       "        text-align: right;\n",
       "    }\n",
       "</style>\n",
       "<table border=\"1\" class=\"dataframe\">\n",
       "  <thead>\n",
       "    <tr style=\"text-align: right;\">\n",
       "      <th></th>\n",
       "      <th>carat</th>\n",
       "      <th>cut</th>\n",
       "      <th>color</th>\n",
       "      <th>clarity</th>\n",
       "      <th>depth</th>\n",
       "      <th>table</th>\n",
       "      <th>price</th>\n",
       "      <th>'x'</th>\n",
       "      <th>'y'</th>\n",
       "      <th>'z'</th>\n",
       "    </tr>\n",
       "  </thead>\n",
       "  <tbody>\n",
       "    <tr>\n",
       "      <th>count</th>\n",
       "      <td>53940.000000</td>\n",
       "      <td>53940</td>\n",
       "      <td>53940</td>\n",
       "      <td>53940</td>\n",
       "      <td>53940.000000</td>\n",
       "      <td>53940.000000</td>\n",
       "      <td>53940.000000</td>\n",
       "      <td>53940.000000</td>\n",
       "      <td>53940.000000</td>\n",
       "      <td>53940.000000</td>\n",
       "    </tr>\n",
       "    <tr>\n",
       "      <th>unique</th>\n",
       "      <td>NaN</td>\n",
       "      <td>5</td>\n",
       "      <td>7</td>\n",
       "      <td>8</td>\n",
       "      <td>NaN</td>\n",
       "      <td>NaN</td>\n",
       "      <td>NaN</td>\n",
       "      <td>NaN</td>\n",
       "      <td>NaN</td>\n",
       "      <td>NaN</td>\n",
       "    </tr>\n",
       "    <tr>\n",
       "      <th>top</th>\n",
       "      <td>NaN</td>\n",
       "      <td>b'Ideal'</td>\n",
       "      <td>b'G'</td>\n",
       "      <td>b'SI1'</td>\n",
       "      <td>NaN</td>\n",
       "      <td>NaN</td>\n",
       "      <td>NaN</td>\n",
       "      <td>NaN</td>\n",
       "      <td>NaN</td>\n",
       "      <td>NaN</td>\n",
       "    </tr>\n",
       "    <tr>\n",
       "      <th>freq</th>\n",
       "      <td>NaN</td>\n",
       "      <td>21551</td>\n",
       "      <td>11292</td>\n",
       "      <td>13065</td>\n",
       "      <td>NaN</td>\n",
       "      <td>NaN</td>\n",
       "      <td>NaN</td>\n",
       "      <td>NaN</td>\n",
       "      <td>NaN</td>\n",
       "      <td>NaN</td>\n",
       "    </tr>\n",
       "    <tr>\n",
       "      <th>mean</th>\n",
       "      <td>0.797940</td>\n",
       "      <td>NaN</td>\n",
       "      <td>NaN</td>\n",
       "      <td>NaN</td>\n",
       "      <td>61.749405</td>\n",
       "      <td>57.457184</td>\n",
       "      <td>3932.799722</td>\n",
       "      <td>5.731157</td>\n",
       "      <td>5.734526</td>\n",
       "      <td>3.538734</td>\n",
       "    </tr>\n",
       "    <tr>\n",
       "      <th>std</th>\n",
       "      <td>0.474011</td>\n",
       "      <td>NaN</td>\n",
       "      <td>NaN</td>\n",
       "      <td>NaN</td>\n",
       "      <td>1.432621</td>\n",
       "      <td>2.234491</td>\n",
       "      <td>3989.439738</td>\n",
       "      <td>1.121761</td>\n",
       "      <td>1.142135</td>\n",
       "      <td>0.705699</td>\n",
       "    </tr>\n",
       "    <tr>\n",
       "      <th>min</th>\n",
       "      <td>0.200000</td>\n",
       "      <td>NaN</td>\n",
       "      <td>NaN</td>\n",
       "      <td>NaN</td>\n",
       "      <td>43.000000</td>\n",
       "      <td>43.000000</td>\n",
       "      <td>326.000000</td>\n",
       "      <td>0.000000</td>\n",
       "      <td>0.000000</td>\n",
       "      <td>0.000000</td>\n",
       "    </tr>\n",
       "    <tr>\n",
       "      <th>25%</th>\n",
       "      <td>0.400000</td>\n",
       "      <td>NaN</td>\n",
       "      <td>NaN</td>\n",
       "      <td>NaN</td>\n",
       "      <td>61.000000</td>\n",
       "      <td>56.000000</td>\n",
       "      <td>950.000000</td>\n",
       "      <td>4.710000</td>\n",
       "      <td>4.720000</td>\n",
       "      <td>2.910000</td>\n",
       "    </tr>\n",
       "    <tr>\n",
       "      <th>50%</th>\n",
       "      <td>0.700000</td>\n",
       "      <td>NaN</td>\n",
       "      <td>NaN</td>\n",
       "      <td>NaN</td>\n",
       "      <td>61.800000</td>\n",
       "      <td>57.000000</td>\n",
       "      <td>2401.000000</td>\n",
       "      <td>5.700000</td>\n",
       "      <td>5.710000</td>\n",
       "      <td>3.530000</td>\n",
       "    </tr>\n",
       "    <tr>\n",
       "      <th>75%</th>\n",
       "      <td>1.040000</td>\n",
       "      <td>NaN</td>\n",
       "      <td>NaN</td>\n",
       "      <td>NaN</td>\n",
       "      <td>62.500000</td>\n",
       "      <td>59.000000</td>\n",
       "      <td>5324.250000</td>\n",
       "      <td>6.540000</td>\n",
       "      <td>6.540000</td>\n",
       "      <td>4.040000</td>\n",
       "    </tr>\n",
       "    <tr>\n",
       "      <th>max</th>\n",
       "      <td>5.010000</td>\n",
       "      <td>NaN</td>\n",
       "      <td>NaN</td>\n",
       "      <td>NaN</td>\n",
       "      <td>79.000000</td>\n",
       "      <td>95.000000</td>\n",
       "      <td>18823.000000</td>\n",
       "      <td>10.740000</td>\n",
       "      <td>58.900000</td>\n",
       "      <td>31.800000</td>\n",
       "    </tr>\n",
       "  </tbody>\n",
       "</table>\n",
       "</div>"
      ],
      "text/plain": [
       "               carat       cut  color clarity         depth         table  \\\n",
       "count   53940.000000     53940  53940   53940  53940.000000  53940.000000   \n",
       "unique           NaN         5      7       8           NaN           NaN   \n",
       "top              NaN  b'Ideal'   b'G'  b'SI1'           NaN           NaN   \n",
       "freq             NaN     21551  11292   13065           NaN           NaN   \n",
       "mean        0.797940       NaN    NaN     NaN     61.749405     57.457184   \n",
       "std         0.474011       NaN    NaN     NaN      1.432621      2.234491   \n",
       "min         0.200000       NaN    NaN     NaN     43.000000     43.000000   \n",
       "25%         0.400000       NaN    NaN     NaN     61.000000     56.000000   \n",
       "50%         0.700000       NaN    NaN     NaN     61.800000     57.000000   \n",
       "75%         1.040000       NaN    NaN     NaN     62.500000     59.000000   \n",
       "max         5.010000       NaN    NaN     NaN     79.000000     95.000000   \n",
       "\n",
       "               price           'x'           'y'           'z'  \n",
       "count   53940.000000  53940.000000  53940.000000  53940.000000  \n",
       "unique           NaN           NaN           NaN           NaN  \n",
       "top              NaN           NaN           NaN           NaN  \n",
       "freq             NaN           NaN           NaN           NaN  \n",
       "mean     3932.799722      5.731157      5.734526      3.538734  \n",
       "std      3989.439738      1.121761      1.142135      0.705699  \n",
       "min       326.000000      0.000000      0.000000      0.000000  \n",
       "25%       950.000000      4.710000      4.720000      2.910000  \n",
       "50%      2401.000000      5.700000      5.710000      3.530000  \n",
       "75%      5324.250000      6.540000      6.540000      4.040000  \n",
       "max     18823.000000     10.740000     58.900000     31.800000  "
      ]
     },
     "execution_count": 5,
     "metadata": {},
     "output_type": "execute_result"
    }
   ],
   "source": [
    "df.describe(include='all')"
   ]
  },
  {
   "attachments": {},
   "cell_type": "markdown",
   "id": "ea73f384",
   "metadata": {},
   "source": [
    "#  Comprobamos valores nulos en el Dataset"
   ]
  },
  {
   "cell_type": "code",
   "execution_count": 6,
   "id": "db350f08",
   "metadata": {},
   "outputs": [
    {
     "data": {
      "text/plain": [
       "carat      0\n",
       "cut        0\n",
       "color      0\n",
       "clarity    0\n",
       "depth      0\n",
       "table      0\n",
       "price      0\n",
       "'x'        0\n",
       "'y'        0\n",
       "'z'        0\n",
       "dtype: int64"
      ]
     },
     "execution_count": 6,
     "metadata": {},
     "output_type": "execute_result"
    }
   ],
   "source": [
    "df.isna().sum()"
   ]
  },
  {
   "attachments": {},
   "cell_type": "markdown",
   "id": "6c8232e4",
   "metadata": {},
   "source": [
    "### Observamos que no tenemos valores nulos\n",
    "\n",
    "# Para el posterior estudio de los datos es necesario conocer los distintos valores que puede haber en cada columna\n",
    "### Se puede encontrar más info acerca de la valoración de los diamantes en esta web: https://www.diamonds.pro/education/4cs-diamonds/\n",
    "\n",
    "### El precio de un diamante depende de: Carat, Cut, Color y Clarity. Es decir: quilates, corte, color y claridad\n",
    "\n",
    "## Columna 'carat'"
   ]
  },
  {
   "cell_type": "code",
   "execution_count": 7,
   "id": "59589bca",
   "metadata": {},
   "outputs": [
    {
     "data": {
      "text/plain": [
       "0.30    2604\n",
       "0.31    2249\n",
       "1.01    2242\n",
       "0.70    1981\n",
       "0.32    1840\n",
       "        ... \n",
       "3.02       1\n",
       "3.65       1\n",
       "3.50       1\n",
       "3.22       1\n",
       "3.11       1\n",
       "Name: carat, Length: 273, dtype: int64"
      ]
     },
     "execution_count": 7,
     "metadata": {},
     "output_type": "execute_result"
    }
   ],
   "source": [
    "df['carat'].value_counts()"
   ]
  },
  {
   "attachments": {},
   "cell_type": "markdown",
   "id": "c33b97f8",
   "metadata": {},
   "source": [
    "### En el caso de la columna 'carat' tenemos muchos posibles valores\n",
    "\n",
    "### Enfrentemos la variable carat frente a precio"
   ]
  },
  {
   "cell_type": "code",
   "execution_count": 8,
   "id": "e270a394",
   "metadata": {},
   "outputs": [
    {
     "data": {
      "image/png": "[encoded data removed]",
      "text/plain": [
       "<Figure size 640x480 with 1 Axes>"
      ]
     },
     "metadata": {},
     "output_type": "display_data"
    }
   ],
   "source": [
    "sns.lineplot(x= 'carat', y= 'price', data= df)\n",
    "plt.title('Carat frente a precio')\n",
    "plt.show()"
   ]
  },
  {
   "cell_type": "code",
   "execution_count": 37,
   "id": "83a4e083",
   "metadata": {},
   "outputs": [
    {
     "data": {
      "image/png": "[encoded data removed]",
      "text/plain": [
       "<Figure size 640x480 with 1 Axes>"
      ]
     },
     "metadata": {},
     "output_type": "display_data"
    }
   ],
   "source": [
    "sns.barplot(x= 'carat', y= 'price', data= df)\n",
    "plt.title('Carat frente a precio')\n",
    "plt.show()"
   ]
  },
  {
   "attachments": {},
   "cell_type": "markdown",
   "id": "08768559",
   "metadata": {},
   "source": [
    "## Columna 'cut'"
   ]
  },
  {
   "cell_type": "code",
   "execution_count": 9,
   "id": "a632d77f",
   "metadata": {},
   "outputs": [
    {
     "data": {
      "text/plain": [
       "b'Ideal'        21551\n",
       "b'Premium'      13791\n",
       "b'Very Good'    12082\n",
       "b'Good'          4906\n",
       "b'Fair'          1610\n",
       "Name: cut, dtype: int64"
      ]
     },
     "execution_count": 9,
     "metadata": {},
     "output_type": "execute_result"
    }
   ],
   "source": [
    "df['cut'].value_counts()"
   ]
  },
  {
   "cell_type": "code",
   "execution_count": 10,
   "id": "347af217",
   "metadata": {},
   "outputs": [
    {
     "data": {
      "text/plain": [
       "49225    b'Very Good'\n",
       "34434        b'Ideal'\n",
       "11790      b'Premium'\n",
       "51011        b'Ideal'\n",
       "11281      b'Premium'\n",
       "28418         b'Good'\n",
       "15999        b'Ideal'\n",
       "4846         b'Ideal'\n",
       "53246        b'Ideal'\n",
       "14380      b'Premium'\n",
       "Name: cut, dtype: object"
      ]
     },
     "execution_count": 10,
     "metadata": {},
     "output_type": "execute_result"
    }
   ],
   "source": [
    "df['cut'].sample(10)"
   ]
  },
  {
   "attachments": {},
   "cell_type": "markdown",
   "id": "a051e68f",
   "metadata": {},
   "source": [
    "### En el caso de la columna 'cut' tenemos 5 valores no numéricos\n",
    "\n",
    "### Enfrentemos la variable cut frente a precio"
   ]
  },
  {
   "cell_type": "code",
   "execution_count": 11,
   "id": "d2f19b59",
   "metadata": {},
   "outputs": [
    {
     "data": {
      "image/png": "[encoded data removed]",
      "text/plain": [
       "<Figure size 640x480 with 1 Axes>"
      ]
     },
     "metadata": {},
     "output_type": "display_data"
    }
   ],
   "source": [
    "sns.lineplot(x= 'cut', y= 'price', data= df)\n",
    "plt.title('Cut frente a precio')\n",
    "plt.show()"
   ]
  },
  {
   "cell_type": "code",
   "execution_count": 20,
   "id": "fc56717f",
   "metadata": {},
   "outputs": [
    {
     "data": {
      "image/png": "[encoded data removed]",
      "text/plain": [
       "<Figure size 640x480 with 1 Axes>"
      ]
     },
     "metadata": {},
     "output_type": "display_data"
    }
   ],
   "source": [
    "sns.barplot(x= 'cut', y= 'price', data= df)\n",
    "plt.title('Cut frente a precio')\n",
    "plt.show()"
   ]
  },
  {
   "attachments": {},
   "cell_type": "markdown",
   "id": "f212180d",
   "metadata": {},
   "source": [
    "\n",
    "\n",
    "## Columna 'color'"
   ]
  },
  {
   "cell_type": "code",
   "execution_count": 21,
   "id": "0c2ab393",
   "metadata": {},
   "outputs": [
    {
     "data": {
      "text/plain": [
       "b'G'    11292\n",
       "b'E'     9797\n",
       "b'F'     9542\n",
       "b'H'     8304\n",
       "b'D'     6775\n",
       "b'I'     5422\n",
       "b'J'     2808\n",
       "Name: color, dtype: int64"
      ]
     },
     "execution_count": 21,
     "metadata": {},
     "output_type": "execute_result"
    }
   ],
   "source": [
    "df['color'].value_counts()"
   ]
  },
  {
   "attachments": {},
   "cell_type": "markdown",
   "id": "b441a3cb",
   "metadata": {},
   "source": [
    "### En el caso de la columna 'color' tenemos 7 valores no numéricos\n",
    "\n",
    "### Enfrentemos la variable color frente a precio"
   ]
  },
  {
   "cell_type": "code",
   "execution_count": 22,
   "id": "3a9a7c7b",
   "metadata": {},
   "outputs": [
    {
     "data": {
      "image/png": "[encoded data removed]",
      "text/plain": [
       "<Figure size 640x480 with 1 Axes>"
      ]
     },
     "metadata": {},
     "output_type": "display_data"
    }
   ],
   "source": [
    "sns.barplot(x= 'color', y= 'price', data= df)\n",
    "plt.title('Color frente a precio')\n",
    "plt.show()"
   ]
  },
  {
   "attachments": {},
   "cell_type": "markdown",
   "id": "5d068fd4",
   "metadata": {},
   "source": [
    "\n",
    "\n",
    "## Columna 'clarity'"
   ]
  },
  {
   "cell_type": "code",
   "execution_count": 23,
   "id": "cea4f009",
   "metadata": {},
   "outputs": [
    {
     "data": {
      "text/plain": [
       "b'SI1'     13065\n",
       "b'VS2'     12258\n",
       "b'SI2'      9194\n",
       "b'VS1'      8171\n",
       "b'VVS2'     5066\n",
       "b'VVS1'     3655\n",
       "b'IF'       1790\n",
       "b'I1'        741\n",
       "Name: clarity, dtype: int64"
      ]
     },
     "execution_count": 23,
     "metadata": {},
     "output_type": "execute_result"
    }
   ],
   "source": [
    "df['clarity'].value_counts()"
   ]
  },
  {
   "attachments": {},
   "cell_type": "markdown",
   "id": "a016e8b8",
   "metadata": {},
   "source": [
    "### En el caso de la columna 'clarity' tenemos 8 valores no numéricos\n",
    "\n",
    "### Enfrentemos la variable clarity frente a precio"
   ]
  },
  {
   "cell_type": "code",
   "execution_count": 24,
   "id": "c98e1f40",
   "metadata": {},
   "outputs": [
    {
     "data": {
      "image/png": "[encoded data removed]",
      "text/plain": [
       "<Figure size 640x480 with 1 Axes>"
      ]
     },
     "metadata": {},
     "output_type": "display_data"
    }
   ],
   "source": [
    "sns.barplot(x= 'clarity', y= 'price', data= df)\n",
    "plt.title('Clarity frente a precio')\n",
    "plt.show()"
   ]
  },
  {
   "attachments": {},
   "cell_type": "markdown",
   "id": "59d99748",
   "metadata": {},
   "source": [
    "## Pasamos a realizar análisis por variable para evaluar la posible normalización"
   ]
  },
  {
   "cell_type": "code",
   "execution_count": 38,
   "id": "cd0ce02d",
   "metadata": {},
   "outputs": [
    {
     "data": {
      "text/html": [
       "<div>\n",
       "<style scoped>\n",
       "    .dataframe tbody tr th:only-of-type {\n",
       "        vertical-align: middle;\n",
       "    }\n",
       "\n",
       "    .dataframe tbody tr th {\n",
       "        vertical-align: top;\n",
       "    }\n",
       "\n",
       "    .dataframe thead th {\n",
       "        text-align: right;\n",
       "    }\n",
       "</style>\n",
       "<table border=\"1\" class=\"dataframe\">\n",
       "  <thead>\n",
       "    <tr style=\"text-align: right;\">\n",
       "      <th></th>\n",
       "      <th>carat</th>\n",
       "      <th>cut</th>\n",
       "      <th>color</th>\n",
       "      <th>clarity</th>\n",
       "      <th>depth</th>\n",
       "      <th>table</th>\n",
       "      <th>price</th>\n",
       "      <th>'x'</th>\n",
       "      <th>'y'</th>\n",
       "      <th>'z'</th>\n",
       "    </tr>\n",
       "  </thead>\n",
       "  <tbody>\n",
       "    <tr>\n",
       "      <th>count</th>\n",
       "      <td>53940.000000</td>\n",
       "      <td>53940</td>\n",
       "      <td>53940</td>\n",
       "      <td>53940</td>\n",
       "      <td>53940.000000</td>\n",
       "      <td>53940.000000</td>\n",
       "      <td>53940.000000</td>\n",
       "      <td>53940.000000</td>\n",
       "      <td>53940.000000</td>\n",
       "      <td>53940.000000</td>\n",
       "    </tr>\n",
       "    <tr>\n",
       "      <th>unique</th>\n",
       "      <td>NaN</td>\n",
       "      <td>5</td>\n",
       "      <td>7</td>\n",
       "      <td>8</td>\n",
       "      <td>NaN</td>\n",
       "      <td>NaN</td>\n",
       "      <td>NaN</td>\n",
       "      <td>NaN</td>\n",
       "      <td>NaN</td>\n",
       "      <td>NaN</td>\n",
       "    </tr>\n",
       "    <tr>\n",
       "      <th>top</th>\n",
       "      <td>NaN</td>\n",
       "      <td>b'Ideal'</td>\n",
       "      <td>b'G'</td>\n",
       "      <td>b'SI1'</td>\n",
       "      <td>NaN</td>\n",
       "      <td>NaN</td>\n",
       "      <td>NaN</td>\n",
       "      <td>NaN</td>\n",
       "      <td>NaN</td>\n",
       "      <td>NaN</td>\n",
       "    </tr>\n",
       "    <tr>\n",
       "      <th>freq</th>\n",
       "      <td>NaN</td>\n",
       "      <td>21551</td>\n",
       "      <td>11292</td>\n",
       "      <td>13065</td>\n",
       "      <td>NaN</td>\n",
       "      <td>NaN</td>\n",
       "      <td>NaN</td>\n",
       "      <td>NaN</td>\n",
       "      <td>NaN</td>\n",
       "      <td>NaN</td>\n",
       "    </tr>\n",
       "    <tr>\n",
       "      <th>mean</th>\n",
       "      <td>0.797940</td>\n",
       "      <td>NaN</td>\n",
       "      <td>NaN</td>\n",
       "      <td>NaN</td>\n",
       "      <td>61.749405</td>\n",
       "      <td>57.457184</td>\n",
       "      <td>3932.799722</td>\n",
       "      <td>5.731157</td>\n",
       "      <td>5.734526</td>\n",
       "      <td>3.538734</td>\n",
       "    </tr>\n",
       "    <tr>\n",
       "      <th>std</th>\n",
       "      <td>0.474011</td>\n",
       "      <td>NaN</td>\n",
       "      <td>NaN</td>\n",
       "      <td>NaN</td>\n",
       "      <td>1.432621</td>\n",
       "      <td>2.234491</td>\n",
       "      <td>3989.439738</td>\n",
       "      <td>1.121761</td>\n",
       "      <td>1.142135</td>\n",
       "      <td>0.705699</td>\n",
       "    </tr>\n",
       "    <tr>\n",
       "      <th>min</th>\n",
       "      <td>0.200000</td>\n",
       "      <td>NaN</td>\n",
       "      <td>NaN</td>\n",
       "      <td>NaN</td>\n",
       "      <td>43.000000</td>\n",
       "      <td>43.000000</td>\n",
       "      <td>326.000000</td>\n",
       "      <td>0.000000</td>\n",
       "      <td>0.000000</td>\n",
       "      <td>0.000000</td>\n",
       "    </tr>\n",
       "    <tr>\n",
       "      <th>25%</th>\n",
       "      <td>0.400000</td>\n",
       "      <td>NaN</td>\n",
       "      <td>NaN</td>\n",
       "      <td>NaN</td>\n",
       "      <td>61.000000</td>\n",
       "      <td>56.000000</td>\n",
       "      <td>950.000000</td>\n",
       "      <td>4.710000</td>\n",
       "      <td>4.720000</td>\n",
       "      <td>2.910000</td>\n",
       "    </tr>\n",
       "    <tr>\n",
       "      <th>50%</th>\n",
       "      <td>0.700000</td>\n",
       "      <td>NaN</td>\n",
       "      <td>NaN</td>\n",
       "      <td>NaN</td>\n",
       "      <td>61.800000</td>\n",
       "      <td>57.000000</td>\n",
       "      <td>2401.000000</td>\n",
       "      <td>5.700000</td>\n",
       "      <td>5.710000</td>\n",
       "      <td>3.530000</td>\n",
       "    </tr>\n",
       "    <tr>\n",
       "      <th>75%</th>\n",
       "      <td>1.040000</td>\n",
       "      <td>NaN</td>\n",
       "      <td>NaN</td>\n",
       "      <td>NaN</td>\n",
       "      <td>62.500000</td>\n",
       "      <td>59.000000</td>\n",
       "      <td>5324.250000</td>\n",
       "      <td>6.540000</td>\n",
       "      <td>6.540000</td>\n",
       "      <td>4.040000</td>\n",
       "    </tr>\n",
       "    <tr>\n",
       "      <th>max</th>\n",
       "      <td>5.010000</td>\n",
       "      <td>NaN</td>\n",
       "      <td>NaN</td>\n",
       "      <td>NaN</td>\n",
       "      <td>79.000000</td>\n",
       "      <td>95.000000</td>\n",
       "      <td>18823.000000</td>\n",
       "      <td>10.740000</td>\n",
       "      <td>58.900000</td>\n",
       "      <td>31.800000</td>\n",
       "    </tr>\n",
       "  </tbody>\n",
       "</table>\n",
       "</div>"
      ],
      "text/plain": [
       "               carat       cut  color clarity         depth         table  \\\n",
       "count   53940.000000     53940  53940   53940  53940.000000  53940.000000   \n",
       "unique           NaN         5      7       8           NaN           NaN   \n",
       "top              NaN  b'Ideal'   b'G'  b'SI1'           NaN           NaN   \n",
       "freq             NaN     21551  11292   13065           NaN           NaN   \n",
       "mean        0.797940       NaN    NaN     NaN     61.749405     57.457184   \n",
       "std         0.474011       NaN    NaN     NaN      1.432621      2.234491   \n",
       "min         0.200000       NaN    NaN     NaN     43.000000     43.000000   \n",
       "25%         0.400000       NaN    NaN     NaN     61.000000     56.000000   \n",
       "50%         0.700000       NaN    NaN     NaN     61.800000     57.000000   \n",
       "75%         1.040000       NaN    NaN     NaN     62.500000     59.000000   \n",
       "max         5.010000       NaN    NaN     NaN     79.000000     95.000000   \n",
       "\n",
       "               price           'x'           'y'           'z'  \n",
       "count   53940.000000  53940.000000  53940.000000  53940.000000  \n",
       "unique           NaN           NaN           NaN           NaN  \n",
       "top              NaN           NaN           NaN           NaN  \n",
       "freq             NaN           NaN           NaN           NaN  \n",
       "mean     3932.799722      5.731157      5.734526      3.538734  \n",
       "std      3989.439738      1.121761      1.142135      0.705699  \n",
       "min       326.000000      0.000000      0.000000      0.000000  \n",
       "25%       950.000000      4.710000      4.720000      2.910000  \n",
       "50%      2401.000000      5.700000      5.710000      3.530000  \n",
       "75%      5324.250000      6.540000      6.540000      4.040000  \n",
       "max     18823.000000     10.740000     58.900000     31.800000  "
      ]
     },
     "execution_count": 38,
     "metadata": {},
     "output_type": "execute_result"
    }
   ],
   "source": [
    "df.describe(include=\"all\")"
   ]
  },
  {
   "cell_type": "code",
   "execution_count": 39,
   "id": "3fe8e450",
   "metadata": {},
   "outputs": [
    {
     "data": {
      "text/html": [
       "<div>\n",
       "<style scoped>\n",
       "    .dataframe tbody tr th:only-of-type {\n",
       "        vertical-align: middle;\n",
       "    }\n",
       "\n",
       "    .dataframe tbody tr th {\n",
       "        vertical-align: top;\n",
       "    }\n",
       "\n",
       "    .dataframe thead th {\n",
       "        text-align: right;\n",
       "    }\n",
       "</style>\n",
       "<table border=\"1\" class=\"dataframe\">\n",
       "  <thead>\n",
       "    <tr style=\"text-align: right;\">\n",
       "      <th></th>\n",
       "      <th>carat</th>\n",
       "      <th>cut</th>\n",
       "      <th>color</th>\n",
       "      <th>clarity</th>\n",
       "      <th>depth</th>\n",
       "      <th>table</th>\n",
       "      <th>price</th>\n",
       "      <th>'x'</th>\n",
       "      <th>'y'</th>\n",
       "      <th>'z'</th>\n",
       "    </tr>\n",
       "  </thead>\n",
       "  <tbody>\n",
       "    <tr>\n",
       "      <th>count</th>\n",
       "      <td>53940.000000</td>\n",
       "      <td>53940</td>\n",
       "      <td>53940</td>\n",
       "      <td>53940</td>\n",
       "      <td>53940.000000</td>\n",
       "      <td>53940.000000</td>\n",
       "      <td>53940.000000</td>\n",
       "      <td>53940.000000</td>\n",
       "      <td>53940.000000</td>\n",
       "      <td>53940.000000</td>\n",
       "    </tr>\n",
       "    <tr>\n",
       "      <th>unique</th>\n",
       "      <td>NaN</td>\n",
       "      <td>5</td>\n",
       "      <td>7</td>\n",
       "      <td>8</td>\n",
       "      <td>NaN</td>\n",
       "      <td>NaN</td>\n",
       "      <td>NaN</td>\n",
       "      <td>NaN</td>\n",
       "      <td>NaN</td>\n",
       "      <td>NaN</td>\n",
       "    </tr>\n",
       "    <tr>\n",
       "      <th>top</th>\n",
       "      <td>NaN</td>\n",
       "      <td>b'Ideal'</td>\n",
       "      <td>b'G'</td>\n",
       "      <td>b'SI1'</td>\n",
       "      <td>NaN</td>\n",
       "      <td>NaN</td>\n",
       "      <td>NaN</td>\n",
       "      <td>NaN</td>\n",
       "      <td>NaN</td>\n",
       "      <td>NaN</td>\n",
       "    </tr>\n",
       "    <tr>\n",
       "      <th>freq</th>\n",
       "      <td>NaN</td>\n",
       "      <td>21551</td>\n",
       "      <td>11292</td>\n",
       "      <td>13065</td>\n",
       "      <td>NaN</td>\n",
       "      <td>NaN</td>\n",
       "      <td>NaN</td>\n",
       "      <td>NaN</td>\n",
       "      <td>NaN</td>\n",
       "      <td>NaN</td>\n",
       "    </tr>\n",
       "    <tr>\n",
       "      <th>mean</th>\n",
       "      <td>0.797940</td>\n",
       "      <td>NaN</td>\n",
       "      <td>NaN</td>\n",
       "      <td>NaN</td>\n",
       "      <td>61.749405</td>\n",
       "      <td>57.457184</td>\n",
       "      <td>3932.799722</td>\n",
       "      <td>5.731157</td>\n",
       "      <td>5.734526</td>\n",
       "      <td>3.538734</td>\n",
       "    </tr>\n",
       "    <tr>\n",
       "      <th>std</th>\n",
       "      <td>0.474011</td>\n",
       "      <td>NaN</td>\n",
       "      <td>NaN</td>\n",
       "      <td>NaN</td>\n",
       "      <td>1.432621</td>\n",
       "      <td>2.234491</td>\n",
       "      <td>3989.439738</td>\n",
       "      <td>1.121761</td>\n",
       "      <td>1.142135</td>\n",
       "      <td>0.705699</td>\n",
       "    </tr>\n",
       "    <tr>\n",
       "      <th>min</th>\n",
       "      <td>0.200000</td>\n",
       "      <td>NaN</td>\n",
       "      <td>NaN</td>\n",
       "      <td>NaN</td>\n",
       "      <td>43.000000</td>\n",
       "      <td>43.000000</td>\n",
       "      <td>326.000000</td>\n",
       "      <td>0.000000</td>\n",
       "      <td>0.000000</td>\n",
       "      <td>0.000000</td>\n",
       "    </tr>\n",
       "    <tr>\n",
       "      <th>25%</th>\n",
       "      <td>0.400000</td>\n",
       "      <td>NaN</td>\n",
       "      <td>NaN</td>\n",
       "      <td>NaN</td>\n",
       "      <td>61.000000</td>\n",
       "      <td>56.000000</td>\n",
       "      <td>950.000000</td>\n",
       "      <td>4.710000</td>\n",
       "      <td>4.720000</td>\n",
       "      <td>2.910000</td>\n",
       "    </tr>\n",
       "    <tr>\n",
       "      <th>50%</th>\n",
       "      <td>0.700000</td>\n",
       "      <td>NaN</td>\n",
       "      <td>NaN</td>\n",
       "      <td>NaN</td>\n",
       "      <td>61.800000</td>\n",
       "      <td>57.000000</td>\n",
       "      <td>2401.000000</td>\n",
       "      <td>5.700000</td>\n",
       "      <td>5.710000</td>\n",
       "      <td>3.530000</td>\n",
       "    </tr>\n",
       "    <tr>\n",
       "      <th>75%</th>\n",
       "      <td>1.040000</td>\n",
       "      <td>NaN</td>\n",
       "      <td>NaN</td>\n",
       "      <td>NaN</td>\n",
       "      <td>62.500000</td>\n",
       "      <td>59.000000</td>\n",
       "      <td>5324.250000</td>\n",
       "      <td>6.540000</td>\n",
       "      <td>6.540000</td>\n",
       "      <td>4.040000</td>\n",
       "    </tr>\n",
       "    <tr>\n",
       "      <th>max</th>\n",
       "      <td>5.010000</td>\n",
       "      <td>NaN</td>\n",
       "      <td>NaN</td>\n",
       "      <td>NaN</td>\n",
       "      <td>79.000000</td>\n",
       "      <td>95.000000</td>\n",
       "      <td>18823.000000</td>\n",
       "      <td>10.740000</td>\n",
       "      <td>58.900000</td>\n",
       "      <td>31.800000</td>\n",
       "    </tr>\n",
       "  </tbody>\n",
       "</table>\n",
       "</div>"
      ],
      "text/plain": [
       "               carat       cut  color clarity         depth         table  \\\n",
       "count   53940.000000     53940  53940   53940  53940.000000  53940.000000   \n",
       "unique           NaN         5      7       8           NaN           NaN   \n",
       "top              NaN  b'Ideal'   b'G'  b'SI1'           NaN           NaN   \n",
       "freq             NaN     21551  11292   13065           NaN           NaN   \n",
       "mean        0.797940       NaN    NaN     NaN     61.749405     57.457184   \n",
       "std         0.474011       NaN    NaN     NaN      1.432621      2.234491   \n",
       "min         0.200000       NaN    NaN     NaN     43.000000     43.000000   \n",
       "25%         0.400000       NaN    NaN     NaN     61.000000     56.000000   \n",
       "50%         0.700000       NaN    NaN     NaN     61.800000     57.000000   \n",
       "75%         1.040000       NaN    NaN     NaN     62.500000     59.000000   \n",
       "max         5.010000       NaN    NaN     NaN     79.000000     95.000000   \n",
       "\n",
       "               price           'x'           'y'           'z'  \n",
       "count   53940.000000  53940.000000  53940.000000  53940.000000  \n",
       "unique           NaN           NaN           NaN           NaN  \n",
       "top              NaN           NaN           NaN           NaN  \n",
       "freq             NaN           NaN           NaN           NaN  \n",
       "mean     3932.799722      5.731157      5.734526      3.538734  \n",
       "std      3989.439738      1.121761      1.142135      0.705699  \n",
       "min       326.000000      0.000000      0.000000      0.000000  \n",
       "25%       950.000000      4.710000      4.720000      2.910000  \n",
       "50%      2401.000000      5.700000      5.710000      3.530000  \n",
       "75%      5324.250000      6.540000      6.540000      4.040000  \n",
       "max     18823.000000     10.740000     58.900000     31.800000  "
      ]
     },
     "execution_count": 39,
     "metadata": {},
     "output_type": "execute_result"
    }
   ],
   "source": [
    "df_copia=df.copy()\n",
    "\n",
    "df_copia.describe(include=\"all\")"
   ]
  },
  {
   "cell_type": "code",
   "execution_count": 41,
   "id": "f8a125ba",
   "metadata": {},
   "outputs": [
    {
     "data": {
      "text/html": [
       "<div>\n",
       "<style scoped>\n",
       "    .dataframe tbody tr th:only-of-type {\n",
       "        vertical-align: middle;\n",
       "    }\n",
       "\n",
       "    .dataframe tbody tr th {\n",
       "        vertical-align: top;\n",
       "    }\n",
       "\n",
       "    .dataframe thead th {\n",
       "        text-align: right;\n",
       "    }\n",
       "</style>\n",
       "<table border=\"1\" class=\"dataframe\">\n",
       "  <thead>\n",
       "    <tr style=\"text-align: right;\">\n",
       "      <th></th>\n",
       "      <th>carat</th>\n",
       "      <th>cut</th>\n",
       "      <th>color</th>\n",
       "      <th>clarity</th>\n",
       "      <th>depth</th>\n",
       "      <th>table</th>\n",
       "      <th>price</th>\n",
       "      <th>'x'</th>\n",
       "      <th>'y'</th>\n",
       "      <th>'z'</th>\n",
       "      <th>cut_ml</th>\n",
       "      <th>color_ml</th>\n",
       "      <th>clarity_ml</th>\n",
       "    </tr>\n",
       "  </thead>\n",
       "  <tbody>\n",
       "    <tr>\n",
       "      <th>0</th>\n",
       "      <td>0.23</td>\n",
       "      <td>b'Ideal'</td>\n",
       "      <td>b'E'</td>\n",
       "      <td>b'SI2'</td>\n",
       "      <td>61.5</td>\n",
       "      <td>55.0</td>\n",
       "      <td>326.0</td>\n",
       "      <td>3.95</td>\n",
       "      <td>3.98</td>\n",
       "      <td>2.43</td>\n",
       "      <td>2</td>\n",
       "      <td>1</td>\n",
       "      <td>3</td>\n",
       "    </tr>\n",
       "    <tr>\n",
       "      <th>1</th>\n",
       "      <td>0.21</td>\n",
       "      <td>b'Premium'</td>\n",
       "      <td>b'E'</td>\n",
       "      <td>b'SI1'</td>\n",
       "      <td>59.8</td>\n",
       "      <td>61.0</td>\n",
       "      <td>326.0</td>\n",
       "      <td>3.89</td>\n",
       "      <td>3.84</td>\n",
       "      <td>2.31</td>\n",
       "      <td>3</td>\n",
       "      <td>1</td>\n",
       "      <td>2</td>\n",
       "    </tr>\n",
       "    <tr>\n",
       "      <th>2</th>\n",
       "      <td>0.23</td>\n",
       "      <td>b'Good'</td>\n",
       "      <td>b'E'</td>\n",
       "      <td>b'VS1'</td>\n",
       "      <td>56.9</td>\n",
       "      <td>65.0</td>\n",
       "      <td>327.0</td>\n",
       "      <td>4.05</td>\n",
       "      <td>4.07</td>\n",
       "      <td>2.31</td>\n",
       "      <td>1</td>\n",
       "      <td>1</td>\n",
       "      <td>4</td>\n",
       "    </tr>\n",
       "    <tr>\n",
       "      <th>3</th>\n",
       "      <td>0.29</td>\n",
       "      <td>b'Premium'</td>\n",
       "      <td>b'I'</td>\n",
       "      <td>b'VS2'</td>\n",
       "      <td>62.4</td>\n",
       "      <td>58.0</td>\n",
       "      <td>334.0</td>\n",
       "      <td>4.20</td>\n",
       "      <td>4.23</td>\n",
       "      <td>2.63</td>\n",
       "      <td>3</td>\n",
       "      <td>5</td>\n",
       "      <td>5</td>\n",
       "    </tr>\n",
       "    <tr>\n",
       "      <th>4</th>\n",
       "      <td>0.31</td>\n",
       "      <td>b'Good'</td>\n",
       "      <td>b'J'</td>\n",
       "      <td>b'SI2'</td>\n",
       "      <td>63.3</td>\n",
       "      <td>58.0</td>\n",
       "      <td>335.0</td>\n",
       "      <td>4.34</td>\n",
       "      <td>4.35</td>\n",
       "      <td>2.75</td>\n",
       "      <td>1</td>\n",
       "      <td>6</td>\n",
       "      <td>3</td>\n",
       "    </tr>\n",
       "  </tbody>\n",
       "</table>\n",
       "</div>"
      ],
      "text/plain": [
       "   carat         cut color clarity  depth  table  price   'x'   'y'   'z'  \\\n",
       "0   0.23    b'Ideal'  b'E'  b'SI2'   61.5   55.0  326.0  3.95  3.98  2.43   \n",
       "1   0.21  b'Premium'  b'E'  b'SI1'   59.8   61.0  326.0  3.89  3.84  2.31   \n",
       "2   0.23     b'Good'  b'E'  b'VS1'   56.9   65.0  327.0  4.05  4.07  2.31   \n",
       "3   0.29  b'Premium'  b'I'  b'VS2'   62.4   58.0  334.0  4.20  4.23  2.63   \n",
       "4   0.31     b'Good'  b'J'  b'SI2'   63.3   58.0  335.0  4.34  4.35  2.75   \n",
       "\n",
       "   cut_ml  color_ml  clarity_ml  \n",
       "0       2         1           3  \n",
       "1       3         1           2  \n",
       "2       1         1           4  \n",
       "3       3         5           5  \n",
       "4       1         6           3  "
      ]
     },
     "execution_count": 41,
     "metadata": {},
     "output_type": "execute_result"
    }
   ],
   "source": [
    "# Codificamos los valores no numéricos\n",
    "\n",
    "from sklearn.preprocessing import LabelEncoder\n",
    "\n",
    "ml_cut= LabelEncoder()\n",
    "ml_color= LabelEncoder()\n",
    "ml_clarity= LabelEncoder()\n",
    "\n",
    "df_copia['cut_ml']= ml_cut.fit_transform(df_copia['cut'])\n",
    "df_copia['color_ml']= ml_color.fit_transform(df_copia['color'])\n",
    "df_copia['clarity_ml']= ml_clarity.fit_transform(df_copia['clarity'])\n",
    "df_copia.head()"
   ]
  },
  {
   "cell_type": "code",
   "execution_count": 42,
   "id": "ae70e0e0",
   "metadata": {},
   "outputs": [],
   "source": [
    "# Desechamos las columnas que no nos interesan\n",
    "\n",
    "df_copia.drop([\"cut\", \"color\", \"clarity\", \"'x'\", \"'y'\", \"'z'\"], axis= 1, inplace= True)"
   ]
  },
  {
   "attachments": {},
   "cell_type": "markdown",
   "id": "3cb5c6e5",
   "metadata": {},
   "source": [
    "## Estudiamos posible correlación"
   ]
  },
  {
   "cell_type": "code",
   "execution_count": 43,
   "id": "8b0b1cfe",
   "metadata": {},
   "outputs": [
    {
     "data": {
      "text/plain": [
       "<AxesSubplot: >"
      ]
     },
     "execution_count": 43,
     "metadata": {},
     "output_type": "execute_result"
    },
    {
     "data": {
      "image/png": "[encoded data removed]",
      "text/plain": [
       "<Figure size 640x480 with 2 Axes>"
      ]
     },
     "metadata": {},
     "output_type": "display_data"
    }
   ],
   "source": [
    "sns.heatmap(df_copia.corr(), annot=True)"
   ]
  },
  {
   "attachments": {},
   "cell_type": "markdown",
   "id": "1fa15043",
   "metadata": {},
   "source": [
    "## Test de correlación"
   ]
  },
  {
   "cell_type": "code",
   "execution_count": 44,
   "id": "6387d4bb",
   "metadata": {},
   "outputs": [
    {
     "data": {
      "text/html": [
       "<div>\n",
       "<style scoped>\n",
       "    .dataframe tbody tr th:only-of-type {\n",
       "        vertical-align: middle;\n",
       "    }\n",
       "\n",
       "    .dataframe tbody tr th {\n",
       "        vertical-align: top;\n",
       "    }\n",
       "\n",
       "    .dataframe thead th {\n",
       "        text-align: right;\n",
       "    }\n",
       "</style>\n",
       "<table border=\"1\" class=\"dataframe\">\n",
       "  <thead>\n",
       "    <tr style=\"text-align: right;\">\n",
       "      <th></th>\n",
       "      <th>price</th>\n",
       "      <th>carat</th>\n",
       "    </tr>\n",
       "  </thead>\n",
       "  <tbody>\n",
       "    <tr>\n",
       "      <th>price</th>\n",
       "      <td>1.000000</td>\n",
       "      <td>0.921591</td>\n",
       "    </tr>\n",
       "    <tr>\n",
       "      <th>carat</th>\n",
       "      <td>0.921591</td>\n",
       "      <td>1.000000</td>\n",
       "    </tr>\n",
       "  </tbody>\n",
       "</table>\n",
       "</div>"
      ],
      "text/plain": [
       "          price     carat\n",
       "price  1.000000  0.921591\n",
       "carat  0.921591  1.000000"
      ]
     },
     "execution_count": 44,
     "metadata": {},
     "output_type": "execute_result"
    }
   ],
   "source": [
    "price_carat = df_copia[['price','carat']]\n",
    "price_carat.corr()"
   ]
  },
  {
   "cell_type": "code",
   "execution_count": 54,
   "id": "0950f1d0",
   "metadata": {},
   "outputs": [
    {
     "name": "stdout",
     "output_type": "stream",
     "text": [
      "stat=0.922, p=0.000\n",
      "Las muestras probablemente dependen una de la otra\n"
     ]
    }
   ],
   "source": [
    "pearson_test(df_copia['price'],df_copia['carat'])"
   ]
  },
  {
   "cell_type": "markdown",
   "id": "5745d785",
   "metadata": {},
   "source": [
    "## Test de hipótesis: Normal, Shapiro y Anderson-Darling"
   ]
  },
  {
   "attachments": {},
   "cell_type": "markdown",
   "id": "ad211c90",
   "metadata": {},
   "source": [
    "Interpretación\n",
    "\n",
    "- H0: Los datos se distribuyen normalmente.\n",
    "- H1: Los datos no se distribuyen normalmente."
   ]
  },
  {
   "cell_type": "code",
   "execution_count": 47,
   "id": "9fa4f996",
   "metadata": {},
   "outputs": [
    {
     "name": "stdout",
     "output_type": "stream",
     "text": [
      "Statistics=8926.738, p=0.000\n",
      "P-Values es menor que 0.05\n",
      "No podemos aceptar la hipótesis nula y fallamos en rechazar la hipótesis alternativa. Los datos no se distribuyen con normalidad\n"
     ]
    }
   ],
   "source": [
    "normality_test(df_copia['carat'])"
   ]
  },
  {
   "cell_type": "code",
   "execution_count": 48,
   "id": "8b2b3c6b",
   "metadata": {},
   "outputs": [
    {
     "name": "stdout",
     "output_type": "stream",
     "text": [
      "Statistics=0.894, p=0.000\n",
      "P-Values es menor que 0.05\n",
      "No podemos aceptar la hipótesis nula y fallamos en rechazar la hipótesis alternativa. Los datos no se distribuyen con normalidad\n"
     ]
    },
    {
     "name": "stderr",
     "output_type": "stream",
     "text": [
      "/opt/miniconda3/envs/ramup_py39/lib/python3.9/site-packages/scipy/stats/_morestats.py:1800: UserWarning: p-value may not be accurate for N > 5000.\n",
      "  warnings.warn(\"p-value may not be accurate for N > 5000.\")\n"
     ]
    }
   ],
   "source": [
    "shapiro_test(df_copia['carat'])"
   ]
  },
  {
   "cell_type": "code",
   "execution_count": 49,
   "id": "b4b8271e",
   "metadata": {},
   "outputs": [
    {
     "name": "stdout",
     "output_type": "stream",
     "text": [
      "Statistic: 1529.052\n",
      "15.000: 0.576, los datos no se distribuyen con normalidad. No podemos aceptar la hipótesis nula y fallamos en rechazar la hipótesis alternativa \n",
      "10.000: 0.656, los datos no se distribuyen con normalidad. No podemos aceptar la hipótesis nula y fallamos en rechazar la hipótesis alternativa \n",
      "5.000: 0.787, los datos no se distribuyen con normalidad. No podemos aceptar la hipótesis nula y fallamos en rechazar la hipótesis alternativa \n",
      "2.500: 0.918, los datos no se distribuyen con normalidad. No podemos aceptar la hipótesis nula y fallamos en rechazar la hipótesis alternativa \n",
      "1.000: 1.092, los datos no se distribuyen con normalidad. No podemos aceptar la hipótesis nula y fallamos en rechazar la hipótesis alternativa \n"
     ]
    }
   ],
   "source": [
    "anderson_test(df_copia['carat'])"
   ]
  },
  {
   "attachments": {},
   "cell_type": "markdown",
   "id": "ea473d0d",
   "metadata": {},
   "source": [
    "## Los 3 test anteriores nos indican que la variable carat, la que más correlación tiene no tiene una distribución gaussiana\n",
    "\n",
    "## Veámoslo en una gráfica"
   ]
  },
  {
   "cell_type": "code",
   "execution_count": 50,
   "id": "8d05c5f8",
   "metadata": {},
   "outputs": [
    {
     "name": "stderr",
     "output_type": "stream",
     "text": [
      "/var/folders/ky/1wd728kj3z34yrqzyh1m58p00000gn/T/ipykernel_5535/1737144984.py:1: UserWarning: Ignoring `palette` because no `hue` variable has been assigned.\n",
      "  sns.displot(data=df_copia, x='price', kde=True, palette=['b','r','g'])\n"
     ]
    },
    {
     "data": {
      "text/plain": [
       "<seaborn.axisgrid.FacetGrid at 0x7fc00a789f40>"
      ]
     },
     "execution_count": 50,
     "metadata": {},
     "output_type": "execute_result"
    },
    {
     "data": {
      "image/png": "[encoded data removed]",
      "text/plain": [
       "<Figure size 500x500 with 1 Axes>"
      ]
     },
     "metadata": {},
     "output_type": "display_data"
    }
   ],
   "source": [
    "sns.displot(data=df_copia, x='price', kde=True, palette=['b','r','g'])"
   ]
  },
  {
   "attachments": {},
   "cell_type": "markdown",
   "id": "a5e661c4",
   "metadata": {},
   "source": [
    "# Como comprobamos que no hay distribución normal en nuestras variables no podemos usar T-student\n",
    "\n",
    "# Realizaremos hipótesis con Mann-Whitney"
   ]
  },
  {
   "attachments": {},
   "cell_type": "markdown",
   "id": "be552c18",
   "metadata": {},
   "source": [
    "Siendo $\\mu_1$ la media del precio para los diamantes de color E y $\\mu_2$ la media del precio para los diamantes de color D\n",
    "$$\n",
    "\\left\\{\n",
    "\\begin{array}{ll}\n",
    "H_0: & \\mu_1 = \\mu_2 \\\\\n",
    "H_1: & \\mu_1 \\neq \\mu_2\n",
    "\\end{array}\n",
    "\\right.\n",
    "$$"
   ]
  },
  {
   "cell_type": "code",
   "execution_count": 56,
   "id": "6316e8e8",
   "metadata": {},
   "outputs": [
    {
     "name": "stdout",
     "output_type": "stream",
     "text": [
      "0.007048596255054776\n"
     ]
    }
   ],
   "source": [
    "## Dividimos en dos dataframes en funcion del color\n",
    "\n",
    "# Hipótesis nula es que son iguales\n",
    "# Hipótesis alternativa es que son diferentes\n",
    "\n",
    "color1 = df[df[\"color\"]==\"b'E'\"]\n",
    "color2 = df[df[\"color\"]==\"b'D'\"]\n",
    "\n",
    "estadistico, p_valor = stats.mannwhitneyu(color1[\"price\"], color2[\"price\"], alternative = \"two-sided\")\n",
    "\n",
    "print(p_valor)"
   ]
  },
  {
   "attachments": {},
   "cell_type": "markdown",
   "id": "d1c4b978",
   "metadata": {},
   "source": [
    "Se comprueba la hipótesis alternativa ya que el valor es cercano a 0"
   ]
  },
  {
   "attachments": {},
   "cell_type": "markdown",
   "id": "ca80e7dc",
   "metadata": {},
   "source": [
    "$$\n",
    "\\left\\{\n",
    "\\begin{array}{ll}\n",
    "H_0: & \\mu_1 \\leq \\mu_2 \\\\\n",
    "H_1: & \\mu_1 > \\mu_2\n",
    "\\end{array}\n",
    "\\right.\n",
    "$$"
   ]
  },
  {
   "cell_type": "code",
   "execution_count": 36,
   "id": "31516dd0",
   "metadata": {},
   "outputs": [
    {
     "name": "stdout",
     "output_type": "stream",
     "text": [
      "0.9964757368018083\n"
     ]
    }
   ],
   "source": [
    "## Dividimos en dos dataframes en funcion del color\n",
    "\n",
    "# Hipótesis nula es que color 1 menor o igual que color 2\n",
    "# Hippótesis alternativa color 1 es mayor que color 2\n",
    "\n",
    "color1 = df[df[\"color\"]==\"b'E'\"]\n",
    "color2 = df[df[\"color\"]==\"b'D'\"]\n",
    "\n",
    "estadistico, p_valor = stats.mannwhitneyu(color1[\"price\"], color2[\"price\"], alternative = \"greater\")\n",
    "\n",
    "print(p_valor)"
   ]
  },
  {
   "attachments": {},
   "cell_type": "markdown",
   "id": "571d8f28",
   "metadata": {},
   "source": [
    "Se comprueba la hipótesis nula ya que el valor es cercano a 1"
   ]
  },
  {
   "attachments": {},
   "cell_type": "markdown",
   "id": "cac8e943",
   "metadata": {},
   "source": [
    "# Conclusiones\n",
    "\n",
    "## --> El valor con mas correlación al precio es 'Carat', es decir, los quilates que tenga el diamante\n",
    "## --> Hemos comprobado que el precio depende de otras características pero no con correlación\n",
    "## --> La distribución del precio"
   ]
  }
 ],
 "metadata": {
  "kernelspec": {
   "display_name": "Python 3",
   "language": "python",
   "name": "python3"
  },
  "language_info": {
   "codemirror_mode": {
    "name": "ipython",
    "version": 3
   },
   "file_extension": ".py",
   "mimetype": "text/x-python",
   "name": "python",
   "nbconvert_exporter": "python",
   "pygments_lexer": "ipython3",
   "version": "3.9.16"
  },
  "papermill": {
   "default_parameters": {},
   "duration": 10.896675,
   "end_time": "2023-02-01T13:56:43.355558",
   "environment_variables": {},
   "exception": null,
   "input_path": "__notebook__.ipynb",
   "output_path": "__notebook__.ipynb",
   "parameters": {},
   "start_time": "2023-02-01T13:56:32.458883",
   "version": "2.3.4"
  }
 },
 "nbformat": 4,
 "nbformat_minor": 5
}
